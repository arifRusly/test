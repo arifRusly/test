{
  "nbformat": 4,
  "nbformat_minor": 0,
  "metadata": {
    "colab": {
      "name": "Closing Stock Price prediction .ipynb",
      "provenance": [],
      "authorship_tag": "ABX9TyOXYq7A3TWCT6VDBh4ctBl1",
      "include_colab_link": true
    },
    "kernelspec": {
      "name": "python3",
      "display_name": "Python 3"
    }
  },
  "cells": [
    {
      "cell_type": "markdown",
      "metadata": {
        "id": "view-in-github",
        "colab_type": "text"
      },
      "source": [
        "<a href=\"https://colab.research.google.com/github/arifRusly/test/blob/master/Closing_Stock_Price_prediction_.ipynb\" target=\"_parent\"><img src=\"https://colab.research.google.com/assets/colab-badge.svg\" alt=\"Open In Colab\"/></a>"
      ]
    },
    {
      "cell_type": "code",
      "metadata": {
        "id": "qtKWwRXX9Rdl",
        "colab_type": "code",
        "colab": {}
      },
      "source": [
        "# Description : this program uses an artificial recurrent neural network called Long Short Term Memory (LSTM)\n",
        "# to predict the closing stock price of a corporation (Apple Inc.) using the past few month stock price."
      ],
      "execution_count": 0,
      "outputs": []
    },
    {
      "cell_type": "code",
      "metadata": {
        "id": "E6xH_yn79gJQ",
        "colab_type": "code",
        "colab": {
          "base_uri": "https://localhost:8080/",
          "height": 102
        },
        "outputId": "427a1f43-2e9b-4450-cdf3-d3e4ed8f3d13"
      },
      "source": [
        "%tensorflow_version 1.14"
      ],
      "execution_count": 2,
      "outputs": [
        {
          "output_type": "stream",
          "text": [
            "`%tensorflow_version` only switches the major version: 1.x or 2.x.\n",
            "You set: `1.14`. This will be interpreted as: `1.x`.\n",
            "\n",
            "\n",
            "TensorFlow 1.x selected.\n"
          ],
          "name": "stdout"
        }
      ]
    },
    {
      "cell_type": "code",
      "metadata": {
        "id": "Pk0F3JIwLhZN",
        "colab_type": "code",
        "colab": {}
      },
      "source": [
        "# Import the libraries\n",
        "import math\n",
        "import pandas_datareader as web\n",
        "import numpy as np\n",
        "import pandas as pd\n",
        "from sklearn.preprocessing import MinMaxScaler\n",
        "from keras.models import Sequential\n",
        "from keras.layers import Dense, LSTM\n",
        "import matplotlib.pyplot as plt\n",
        "plt.style.use('fivethirtyeight')"
      ],
      "execution_count": 0,
      "outputs": []
    },
    {
      "cell_type": "code",
      "metadata": {
        "id": "QVu1ynqLUe_x",
        "colab_type": "code",
        "colab": {
          "base_uri": "https://localhost:8080/",
          "height": 450
        },
        "outputId": "8d1939c0-2265-4d16-e72f-65a97d170921"
      },
      "source": [
        "# Get the stock quote\n",
        "df = web.DataReader('AAPL', data_source = 'yahoo', start = '2010-01-01', end = '2020-03-29')\n",
        "\n",
        "# Show the data\n",
        "df"
      ],
      "execution_count": 5,
      "outputs": [
        {
          "output_type": "execute_result",
          "data": {
            "text/html": [
              "<div>\n",
              "<style scoped>\n",
              "    .dataframe tbody tr th:only-of-type {\n",
              "        vertical-align: middle;\n",
              "    }\n",
              "\n",
              "    .dataframe tbody tr th {\n",
              "        vertical-align: top;\n",
              "    }\n",
              "\n",
              "    .dataframe thead th {\n",
              "        text-align: right;\n",
              "    }\n",
              "</style>\n",
              "<table border=\"1\" class=\"dataframe\">\n",
              "  <thead>\n",
              "    <tr style=\"text-align: right;\">\n",
              "      <th></th>\n",
              "      <th>High</th>\n",
              "      <th>Low</th>\n",
              "      <th>Open</th>\n",
              "      <th>Close</th>\n",
              "      <th>Volume</th>\n",
              "      <th>Adj Close</th>\n",
              "    </tr>\n",
              "    <tr>\n",
              "      <th>Date</th>\n",
              "      <th></th>\n",
              "      <th></th>\n",
              "      <th></th>\n",
              "      <th></th>\n",
              "      <th></th>\n",
              "      <th></th>\n",
              "    </tr>\n",
              "  </thead>\n",
              "  <tbody>\n",
              "    <tr>\n",
              "      <th>2010-01-04</th>\n",
              "      <td>30.642857</td>\n",
              "      <td>30.340000</td>\n",
              "      <td>30.490000</td>\n",
              "      <td>30.572857</td>\n",
              "      <td>123432400.0</td>\n",
              "      <td>26.538483</td>\n",
              "    </tr>\n",
              "    <tr>\n",
              "      <th>2010-01-05</th>\n",
              "      <td>30.798571</td>\n",
              "      <td>30.464285</td>\n",
              "      <td>30.657143</td>\n",
              "      <td>30.625713</td>\n",
              "      <td>150476200.0</td>\n",
              "      <td>26.584366</td>\n",
              "    </tr>\n",
              "    <tr>\n",
              "      <th>2010-01-06</th>\n",
              "      <td>30.747143</td>\n",
              "      <td>30.107143</td>\n",
              "      <td>30.625713</td>\n",
              "      <td>30.138571</td>\n",
              "      <td>138040000.0</td>\n",
              "      <td>26.161509</td>\n",
              "    </tr>\n",
              "    <tr>\n",
              "      <th>2010-01-07</th>\n",
              "      <td>30.285715</td>\n",
              "      <td>29.864286</td>\n",
              "      <td>30.250000</td>\n",
              "      <td>30.082857</td>\n",
              "      <td>119282800.0</td>\n",
              "      <td>26.113146</td>\n",
              "    </tr>\n",
              "    <tr>\n",
              "      <th>2010-01-08</th>\n",
              "      <td>30.285715</td>\n",
              "      <td>29.865715</td>\n",
              "      <td>30.042856</td>\n",
              "      <td>30.282858</td>\n",
              "      <td>111902700.0</td>\n",
              "      <td>26.286753</td>\n",
              "    </tr>\n",
              "    <tr>\n",
              "      <th>...</th>\n",
              "      <td>...</td>\n",
              "      <td>...</td>\n",
              "      <td>...</td>\n",
              "      <td>...</td>\n",
              "      <td>...</td>\n",
              "      <td>...</td>\n",
              "    </tr>\n",
              "    <tr>\n",
              "      <th>2020-03-23</th>\n",
              "      <td>228.500000</td>\n",
              "      <td>212.610001</td>\n",
              "      <td>228.080002</td>\n",
              "      <td>224.369995</td>\n",
              "      <td>84188200.0</td>\n",
              "      <td>224.369995</td>\n",
              "    </tr>\n",
              "    <tr>\n",
              "      <th>2020-03-24</th>\n",
              "      <td>247.690002</td>\n",
              "      <td>234.300003</td>\n",
              "      <td>236.360001</td>\n",
              "      <td>246.880005</td>\n",
              "      <td>71882800.0</td>\n",
              "      <td>246.880005</td>\n",
              "    </tr>\n",
              "    <tr>\n",
              "      <th>2020-03-25</th>\n",
              "      <td>258.250000</td>\n",
              "      <td>244.300003</td>\n",
              "      <td>250.750000</td>\n",
              "      <td>245.520004</td>\n",
              "      <td>75900500.0</td>\n",
              "      <td>245.520004</td>\n",
              "    </tr>\n",
              "    <tr>\n",
              "      <th>2020-03-26</th>\n",
              "      <td>258.679993</td>\n",
              "      <td>246.360001</td>\n",
              "      <td>246.520004</td>\n",
              "      <td>258.440002</td>\n",
              "      <td>63021800.0</td>\n",
              "      <td>258.440002</td>\n",
              "    </tr>\n",
              "    <tr>\n",
              "      <th>2020-03-27</th>\n",
              "      <td>255.869995</td>\n",
              "      <td>247.050003</td>\n",
              "      <td>252.750000</td>\n",
              "      <td>247.740005</td>\n",
              "      <td>51054200.0</td>\n",
              "      <td>247.740005</td>\n",
              "    </tr>\n",
              "  </tbody>\n",
              "</table>\n",
              "<p>2576 rows × 6 columns</p>\n",
              "</div>"
            ],
            "text/plain": [
              "                  High         Low  ...       Volume   Adj Close\n",
              "Date                                ...                         \n",
              "2010-01-04   30.642857   30.340000  ...  123432400.0   26.538483\n",
              "2010-01-05   30.798571   30.464285  ...  150476200.0   26.584366\n",
              "2010-01-06   30.747143   30.107143  ...  138040000.0   26.161509\n",
              "2010-01-07   30.285715   29.864286  ...  119282800.0   26.113146\n",
              "2010-01-08   30.285715   29.865715  ...  111902700.0   26.286753\n",
              "...                ...         ...  ...          ...         ...\n",
              "2020-03-23  228.500000  212.610001  ...   84188200.0  224.369995\n",
              "2020-03-24  247.690002  234.300003  ...   71882800.0  246.880005\n",
              "2020-03-25  258.250000  244.300003  ...   75900500.0  245.520004\n",
              "2020-03-26  258.679993  246.360001  ...   63021800.0  258.440002\n",
              "2020-03-27  255.869995  247.050003  ...   51054200.0  247.740005\n",
              "\n",
              "[2576 rows x 6 columns]"
            ]
          },
          "metadata": {
            "tags": []
          },
          "execution_count": 5
        }
      ]
    },
    {
      "cell_type": "code",
      "metadata": {
        "id": "2KNRfHMPW1ZW",
        "colab_type": "code",
        "colab": {
          "base_uri": "https://localhost:8080/",
          "height": 34
        },
        "outputId": "b3750b70-7c5c-4ac4-ad7d-0200059971fc"
      },
      "source": [
        "# Get the number of rows and columns in the data set\n",
        "df.shape"
      ],
      "execution_count": 6,
      "outputs": [
        {
          "output_type": "execute_result",
          "data": {
            "text/plain": [
              "(2576, 6)"
            ]
          },
          "metadata": {
            "tags": []
          },
          "execution_count": 6
        }
      ]
    },
    {
      "cell_type": "code",
      "metadata": {
        "id": "Jah01xaqXJvC",
        "colab_type": "code",
        "colab": {
          "base_uri": "https://localhost:8080/",
          "height": 558
        },
        "outputId": "6d94dc1d-6eb0-4247-b870-3cdd9658b4c8"
      },
      "source": [
        "# Visualize the closing price history\n",
        "plt.figure(figsize = (16,8))\n",
        "plt.title('CLOSE PRICE HISTORY')\n",
        "plt.plot(df['Close']) # get the closing price\n",
        "plt.xlabel('Date', fontsize = 18)\n",
        "plt.ylabel('Close Price USD ($)', fontsize = 18)\n",
        "plt.show() # show the graph"
      ],
      "execution_count": 7,
      "outputs": [
        {
          "output_type": "display_data",
          "data": {
            "image/png": "[encoded data removed]",
            "text/plain": [
              "<Figure size 1152x576 with 1 Axes>"
            ]
          },
          "metadata": {
            "tags": []
          }
        }
      ]
    },
    {
      "cell_type": "code",
      "metadata": {
        "id": "FUGoXwUvZF_p",
        "colab_type": "code",
        "colab": {
          "base_uri": "https://localhost:8080/",
          "height": 34
        },
        "outputId": "08adffda-0eed-4756-e422-b0852cffcdb6"
      },
      "source": [
        "# Create a new dataframe with only the 'Close column'\n",
        "data = df.filter(['Close'])\n",
        "\n",
        "# Conver the data frame to a numpy array\n",
        "dataset = data.values\n",
        "\n",
        "# Get the number of rows to train the model on\n",
        "training_data_len = math.ceil(len(dataset) * .8)\n",
        "training_data_len"
      ],
      "execution_count": 8,
      "outputs": [
        {
          "output_type": "execute_result",
          "data": {
            "text/plain": [
              "2061"
            ]
          },
          "metadata": {
            "tags": []
          },
          "execution_count": 8
        }
      ]
    },
    {
      "cell_type": "code",
      "metadata": {
        "id": "qTo2gXtea6MG",
        "colab_type": "code",
        "colab": {
          "base_uri": "https://localhost:8080/",
          "height": 136
        },
        "outputId": "72f9d297-19e5-492a-ef7d-c30910034e7a"
      },
      "source": [
        "# Scaler the data\n",
        "scaler = MinMaxScaler(feature_range = (0,1))\n",
        "scaled_data = scaler.fit_transform(dataset)\n",
        "\n",
        "scaled_data"
      ],
      "execution_count": 9,
      "outputs": [
        {
          "output_type": "execute_result",
          "data": {
            "text/plain": [
              "array([[0.01046536],\n",
              "       [0.01064169],\n",
              "       [0.0090166 ],\n",
              "       ...,\n",
              "       [0.72751923],\n",
              "       [0.77061975],\n",
              "       [0.73492505]])"
            ]
          },
          "metadata": {
            "tags": []
          },
          "execution_count": 9
        }
      ]
    },
    {
      "cell_type": "code",
      "metadata": {
        "id": "MQ1uv6CdcNqD",
        "colab_type": "code",
        "colab": {
          "base_uri": "https://localhost:8080/",
          "height": 833
        },
        "outputId": "9729f2ba-9cc3-43aa-bba9-fd41abce3ba3"
      },
      "source": [
        "# Create the training data set\n",
        "# Create the scaled training data set\n",
        "train_data = scaled_data[0:training_data_len, :]\n",
        "\n",
        "# Split the data into x_train and y_train data sets\n",
        "x_train = []   #independent x variable \n",
        "y_train = [] # independent y variable\n",
        "\n",
        "for i in range(60, len(train_data)):\n",
        "  x_train.append(train_data[i-60:i, 0])# we gonna append the past 60 values to our X_train data (will contain 60 values from position 0 to 59)\n",
        "  y_train.append(train_data[i, 0])\n",
        "  if i<=61:\n",
        "    print(x_train)\n",
        "    print(y_train)\n",
        "    print()"
      ],
      "execution_count": 10,
      "outputs": [
        {
          "output_type": "stream",
          "text": [
            "[array([1.04653630e-02, 1.06416897e-02, 9.01660433e-03, 8.83074613e-03,\n",
            "       9.49793954e-03, 8.60676186e-03, 7.46777113e-03, 8.86410644e-03,\n",
            "       8.28269668e-03, 6.61471952e-03, 1.09562233e-02, 9.37879559e-03,\n",
            "       7.63456630e-03, 2.71641848e-03, 5.25174452e-03, 6.61948528e-03,\n",
            "       7.54402326e-03, 3.45032614e-03, 4.76575809e-06, 1.27719135e-03,\n",
            "       1.81570929e-03, 3.42173159e-03, 0.00000000e+00, 1.62508533e-03,\n",
            "       9.86486473e-04, 1.97297931e-03, 1.46305592e-03, 3.15485550e-03,\n",
            "       3.96978105e-03, 5.40900818e-03, 5.00393146e-03, 5.18502391e-03,\n",
            "       4.58455111e-03, 3.98884408e-03, 2.38758754e-03, 4.10322227e-03,\n",
            "       4.74182113e-03, 5.99041794e-03, 8.07300968e-03, 8.00628907e-03,\n",
            "       8.23503910e-03, 8.89270099e-03, 1.28195966e-02, 1.28815451e-02,\n",
            "       1.47592156e-02, 1.56265581e-02, 1.59410981e-02, 1.64653188e-02,\n",
            "       1.51499950e-02, 1.54406999e-02, 1.52834362e-02, 1.55360151e-02,\n",
            "       1.43922586e-02, 1.55836726e-02, 1.73040668e-02, 1.77854020e-02,\n",
            "       1.64891412e-02, 1.85145439e-02, 1.92246227e-02, 2.08735369e-02])]\n",
            "[0.02046846651215685]\n",
            "\n",
            "[array([1.04653630e-02, 1.06416897e-02, 9.01660433e-03, 8.83074613e-03,\n",
            "       9.49793954e-03, 8.60676186e-03, 7.46777113e-03, 8.86410644e-03,\n",
            "       8.28269668e-03, 6.61471952e-03, 1.09562233e-02, 9.37879559e-03,\n",
            "       7.63456630e-03, 2.71641848e-03, 5.25174452e-03, 6.61948528e-03,\n",
            "       7.54402326e-03, 3.45032614e-03, 4.76575809e-06, 1.27719135e-03,\n",
            "       1.81570929e-03, 3.42173159e-03, 0.00000000e+00, 1.62508533e-03,\n",
            "       9.86486473e-04, 1.97297931e-03, 1.46305592e-03, 3.15485550e-03,\n",
            "       3.96978105e-03, 5.40900818e-03, 5.00393146e-03, 5.18502391e-03,\n",
            "       4.58455111e-03, 3.98884408e-03, 2.38758754e-03, 4.10322227e-03,\n",
            "       4.74182113e-03, 5.99041794e-03, 8.07300968e-03, 8.00628907e-03,\n",
            "       8.23503910e-03, 8.89270099e-03, 1.28195966e-02, 1.28815451e-02,\n",
            "       1.47592156e-02, 1.56265581e-02, 1.59410981e-02, 1.64653188e-02,\n",
            "       1.51499950e-02, 1.54406999e-02, 1.52834362e-02, 1.55360151e-02,\n",
            "       1.43922586e-02, 1.55836726e-02, 1.73040668e-02, 1.77854020e-02,\n",
            "       1.64891412e-02, 1.85145439e-02, 1.92246227e-02, 2.08735369e-02]), array([1.06416897e-02, 9.01660433e-03, 8.83074613e-03, 9.49793954e-03,\n",
            "       8.60676186e-03, 7.46777113e-03, 8.86410644e-03, 8.28269668e-03,\n",
            "       6.61471952e-03, 1.09562233e-02, 9.37879559e-03, 7.63456630e-03,\n",
            "       2.71641848e-03, 5.25174452e-03, 6.61948528e-03, 7.54402326e-03,\n",
            "       3.45032614e-03, 4.76575809e-06, 1.27719135e-03, 1.81570929e-03,\n",
            "       3.42173159e-03, 0.00000000e+00, 1.62508533e-03, 9.86486473e-04,\n",
            "       1.97297931e-03, 1.46305592e-03, 3.15485550e-03, 3.96978105e-03,\n",
            "       5.40900818e-03, 5.00393146e-03, 5.18502391e-03, 4.58455111e-03,\n",
            "       3.98884408e-03, 2.38758754e-03, 4.10322227e-03, 4.74182113e-03,\n",
            "       5.99041794e-03, 8.07300968e-03, 8.00628907e-03, 8.23503910e-03,\n",
            "       8.89270099e-03, 1.28195966e-02, 1.28815451e-02, 1.47592156e-02,\n",
            "       1.56265581e-02, 1.59410981e-02, 1.64653188e-02, 1.51499950e-02,\n",
            "       1.54406999e-02, 1.52834362e-02, 1.55360151e-02, 1.43922586e-02,\n",
            "       1.55836726e-02, 1.73040668e-02, 1.77854020e-02, 1.64891412e-02,\n",
            "       1.85145439e-02, 1.92246227e-02, 2.08735369e-02, 2.04684665e-02])]\n",
            "[0.02046846651215685, 0.020930725958449317]\n",
            "\n"
          ],
          "name": "stdout"
        }
      ]
    },
    {
      "cell_type": "code",
      "metadata": {
        "id": "PKZChIL-nFrk",
        "colab_type": "code",
        "colab": {}
      },
      "source": [
        "# Convert the x_train and y_train to numpy arrays\n",
        "x_train, y_train = np.array(x_train), np.array(y_train)"
      ],
      "execution_count": 0,
      "outputs": []
    },
    {
      "cell_type": "code",
      "metadata": {
        "id": "er1cY7tlngPz",
        "colab_type": "code",
        "colab": {
          "base_uri": "https://localhost:8080/",
          "height": 34
        },
        "outputId": "6619dc0b-362f-4abe-ffd7-776dc870da7b"
      },
      "source": [
        "# Reshape the data\n",
        "# LSTM SHOULD BE 3 DIMENSIONAL ARRAY so we gonna convert it intp 3 dimensional array\n",
        "x_train = np.reshape(x_train, (x_train.shape[0], x_train.shape[1], 1))\n",
        "x_train.shape"
      ],
      "execution_count": 12,
      "outputs": [
        {
          "output_type": "execute_result",
          "data": {
            "text/plain": [
              "(2001, 60, 1)"
            ]
          },
          "metadata": {
            "tags": []
          },
          "execution_count": 12
        }
      ]
    },
    {
      "cell_type": "code",
      "metadata": {
        "id": "mP34VHyZ1KP3",
        "colab_type": "code",
        "colab": {
          "base_uri": "https://localhost:8080/",
          "height": 139
        },
        "outputId": "72641869-8e5e-4b68-f8ec-330febe3b385"
      },
      "source": [
        "# Build the LSTM model\n",
        "model = Sequential()\n",
        "model.add(LSTM(50, return_sequences=True, input_shape=(x_train.shape[1],1)))\n",
        "model.add(LSTM(50, return_sequences = False))\n",
        "model.add(Dense(25))\n",
        "model.add(Dense(1))"
      ],
      "execution_count": 13,
      "outputs": [
        {
          "output_type": "stream",
          "text": [
            "WARNING:tensorflow:From /usr/local/lib/python3.6/dist-packages/keras/backend/tensorflow_backend.py:66: The name tf.get_default_graph is deprecated. Please use tf.compat.v1.get_default_graph instead.\n",
            "\n",
            "WARNING:tensorflow:From /usr/local/lib/python3.6/dist-packages/keras/backend/tensorflow_backend.py:541: The name tf.placeholder is deprecated. Please use tf.compat.v1.placeholder instead.\n",
            "\n",
            "WARNING:tensorflow:From /usr/local/lib/python3.6/dist-packages/keras/backend/tensorflow_backend.py:4432: The name tf.random_uniform is deprecated. Please use tf.random.uniform instead.\n",
            "\n"
          ],
          "name": "stdout"
        }
      ]
    },
    {
      "cell_type": "code",
      "metadata": {
        "id": "QBKbTOTQJoeQ",
        "colab_type": "code",
        "colab": {
          "base_uri": "https://localhost:8080/",
          "height": 71
        },
        "outputId": "7cbdfe80-7858-4279-9201-9c3bf10e3383"
      },
      "source": [
        "# Compile the model\n",
        "model.compile(optimizer = 'adam', loss = 'mean_squared_error')"
      ],
      "execution_count": 14,
      "outputs": [
        {
          "output_type": "stream",
          "text": [
            "WARNING:tensorflow:From /usr/local/lib/python3.6/dist-packages/keras/optimizers.py:793: The name tf.train.Optimizer is deprecated. Please use tf.compat.v1.train.Optimizer instead.\n",
            "\n"
          ],
          "name": "stdout"
        }
      ]
    },
    {
      "cell_type": "code",
      "metadata": {
        "id": "pZanSDA8KPOM",
        "colab_type": "code",
        "colab": {
          "base_uri": "https://localhost:8080/",
          "height": 411
        },
        "outputId": "b118cc4f-b405-4c69-b6e2-4f8b7a8a4cf8"
      },
      "source": [
        "model.fit(x_train, y_train, batch_size=1, epochs=1)"
      ],
      "execution_count": 15,
      "outputs": [
        {
          "output_type": "stream",
          "text": [
            "WARNING:tensorflow:From /tensorflow-1.15.2/python3.6/tensorflow_core/python/ops/math_grad.py:1424: where (from tensorflow.python.ops.array_ops) is deprecated and will be removed in a future version.\n",
            "Instructions for updating:\n",
            "Use tf.where in 2.0, which has the same broadcast rule as np.where\n",
            "WARNING:tensorflow:From /usr/local/lib/python3.6/dist-packages/keras/backend/tensorflow_backend.py:1033: The name tf.assign_add is deprecated. Please use tf.compat.v1.assign_add instead.\n",
            "\n",
            "WARNING:tensorflow:From /usr/local/lib/python3.6/dist-packages/keras/backend/tensorflow_backend.py:1020: The name tf.assign is deprecated. Please use tf.compat.v1.assign instead.\n",
            "\n",
            "WARNING:tensorflow:From /usr/local/lib/python3.6/dist-packages/keras/backend/tensorflow_backend.py:3005: The name tf.Session is deprecated. Please use tf.compat.v1.Session instead.\n",
            "\n",
            "Epoch 1/1\n",
            "WARNING:tensorflow:From /usr/local/lib/python3.6/dist-packages/keras/backend/tensorflow_backend.py:190: The name tf.get_default_session is deprecated. Please use tf.compat.v1.get_default_session instead.\n",
            "\n",
            "WARNING:tensorflow:From /usr/local/lib/python3.6/dist-packages/keras/backend/tensorflow_backend.py:197: The name tf.ConfigProto is deprecated. Please use tf.compat.v1.ConfigProto instead.\n",
            "\n",
            "WARNING:tensorflow:From /usr/local/lib/python3.6/dist-packages/keras/backend/tensorflow_backend.py:207: The name tf.global_variables is deprecated. Please use tf.compat.v1.global_variables instead.\n",
            "\n",
            "WARNING:tensorflow:From /usr/local/lib/python3.6/dist-packages/keras/backend/tensorflow_backend.py:216: The name tf.is_variable_initialized is deprecated. Please use tf.compat.v1.is_variable_initialized instead.\n",
            "\n",
            "WARNING:tensorflow:From /usr/local/lib/python3.6/dist-packages/keras/backend/tensorflow_backend.py:223: The name tf.variables_initializer is deprecated. Please use tf.compat.v1.variables_initializer instead.\n",
            "\n",
            "2001/2001 [==============================] - 144s 72ms/step - loss: 5.0041e-04\n"
          ],
          "name": "stdout"
        },
        {
          "output_type": "execute_result",
          "data": {
            "text/plain": [
              "<keras.callbacks.History at 0x7faab875f5f8>"
            ]
          },
          "metadata": {
            "tags": []
          },
          "execution_count": 15
        }
      ]
    },
    {
      "cell_type": "code",
      "metadata": {
        "id": "ipJ1X1aRLMcq",
        "colab_type": "code",
        "colab": {}
      },
      "source": [
        "# Create the Testing data set\n",
        "# Create a nwe array containing scaled values from 2001 to 2500\n",
        "test_data = scaled_data[training_data_len - 60: , :]\n",
        "\n",
        "#Create the data sets x_test and y_test\n",
        "x_test = []\n",
        "y_test = dataset[training_data_len:, :] # will be the values that we want to predict(actual test value)\n",
        "\n",
        "#create x_tset set\n",
        "for i in range(60, len(test_data)):\n",
        "  x_test.append(test_data[i-60:i, 0])"
      ],
      "execution_count": 0,
      "outputs": []
    },
    {
      "cell_type": "code",
      "metadata": {
        "id": "EN2OBWVmUTcq",
        "colab_type": "code",
        "colab": {}
      },
      "source": [
        "# Convert data to a numpy array\n",
        "x_test = np.array(x_test)"
      ],
      "execution_count": 0,
      "outputs": []
    },
    {
      "cell_type": "code",
      "metadata": {
        "id": "VYuCQ-wKUzWN",
        "colab_type": "code",
        "colab": {}
      },
      "source": [
        "# Reshape the data\n",
        "x_test = np.reshape(x_test,(x_test.shape[0], x_test.shape[1], 1))"
      ],
      "execution_count": 0,
      "outputs": []
    },
    {
      "cell_type": "code",
      "metadata": {
        "id": "6uR6OQRrVgC_",
        "colab_type": "code",
        "colab": {}
      },
      "source": [
        "# Get the models predicted price value\n",
        "predictions = model.predict(x_test)\n",
        "predictions = scaler.inverse_transform(predictions)"
      ],
      "execution_count": 0,
      "outputs": []
    },
    {
      "cell_type": "code",
      "metadata": {
        "id": "LXtYoiyaWYjK",
        "colab_type": "code",
        "colab": {
          "base_uri": "https://localhost:8080/",
          "height": 34
        },
        "outputId": "c2ccd40e-447d-43af-b9b3-e065620a2418"
      },
      "source": [
        "# Get the Root Mean Squared Error(RMSE)\n",
        "rmse = np.sqrt( np.mean(predictions - y_test)**2)\n",
        "rmse"
      ],
      "execution_count": 22,
      "outputs": [
        {
          "output_type": "execute_result",
          "data": {
            "text/plain": [
              "10.094227674169447"
            ]
          },
          "metadata": {
            "tags": []
          },
          "execution_count": 22
        }
      ]
    },
    {
      "cell_type": "code",
      "metadata": {
        "id": "KmbELp3f5Zbw",
        "colab_type": "code",
        "colab": {
          "base_uri": "https://localhost:8080/",
          "height": 718
        },
        "outputId": "863e2937-8d53-4a18-a92f-0361e22e2ea5"
      },
      "source": [
        "# Plot the data\n",
        "train = data[:training_data_len]\n",
        "valid = data[training_data_len: ]\n",
        "valid['Predictions'] = predictions\n",
        "\n",
        "# Visualize the data\n",
        "plt.figure(figsize=(16,9))\n",
        "plt.title('Model')\n",
        "plt.xlabel('Date', fontsize=18)\n",
        "plt.ylabel('Close Price USD ($)', fontsize=18)\n",
        "plt.plot(train['Close'])\n",
        "plt.plot(valid[['Close', 'Predictions']]) \n",
        "plt.legend(['Train', 'Val', 'Predictions'], loc = 'lower right')\n",
        "plt.show()"
      ],
      "execution_count": 23,
      "outputs": [
        {
          "output_type": "stream",
          "text": [
            "/usr/local/lib/python3.6/dist-packages/ipykernel_launcher.py:3: SettingWithCopyWarning: \n",
            "A value is trying to be set on a copy of a slice from a DataFrame.\n",
            "Try using .loc[row_indexer,col_indexer] = value instead\n",
            "\n",
            "See the caveats in the documentation: https://pandas.pydata.org/pandas-docs/stable/user_guide/indexing.html#returning-a-view-versus-a-copy\n",
            "  This is separate from the ipykernel package so we can avoid doing imports until\n"
          ],
          "name": "stderr"
        },
        {
          "output_type": "display_data",
          "data": {
            "image/png": "[encoded data removed]",
            "text/plain": [
              "<Figure size 1152x648 with 1 Axes>"
            ]
          },
          "metadata": {
            "tags": []
          }
        }
      ]
    },
    {
      "cell_type": "code",
      "metadata": {
        "id": "_clqTO3a_7aM",
        "colab_type": "code",
        "colab": {
          "base_uri": "https://localhost:8080/",
          "height": 450
        },
        "outputId": "e92744ab-65d1-4b00-aac7-5d19ce0808bd"
      },
      "source": [
        "# Show the valid and predicted prices\n",
        "valid"
      ],
      "execution_count": 24,
      "outputs": [
        {
          "output_type": "execute_result",
          "data": {
            "text/html": [
              "<div>\n",
              "<style scoped>\n",
              "    .dataframe tbody tr th:only-of-type {\n",
              "        vertical-align: middle;\n",
              "    }\n",
              "\n",
              "    .dataframe tbody tr th {\n",
              "        vertical-align: top;\n",
              "    }\n",
              "\n",
              "    .dataframe thead th {\n",
              "        text-align: right;\n",
              "    }\n",
              "</style>\n",
              "<table border=\"1\" class=\"dataframe\">\n",
              "  <thead>\n",
              "    <tr style=\"text-align: right;\">\n",
              "      <th></th>\n",
              "      <th>Close</th>\n",
              "      <th>Predictions</th>\n",
              "    </tr>\n",
              "    <tr>\n",
              "      <th>Date</th>\n",
              "      <th></th>\n",
              "      <th></th>\n",
              "    </tr>\n",
              "  </thead>\n",
              "  <tbody>\n",
              "    <tr>\n",
              "      <th>2018-03-13</th>\n",
              "      <td>179.970001</td>\n",
              "      <td>185.056747</td>\n",
              "    </tr>\n",
              "    <tr>\n",
              "      <th>2018-03-14</th>\n",
              "      <td>178.440002</td>\n",
              "      <td>185.739990</td>\n",
              "    </tr>\n",
              "    <tr>\n",
              "      <th>2018-03-15</th>\n",
              "      <td>178.649994</td>\n",
              "      <td>186.138870</td>\n",
              "    </tr>\n",
              "    <tr>\n",
              "      <th>2018-03-16</th>\n",
              "      <td>178.020004</td>\n",
              "      <td>186.369873</td>\n",
              "    </tr>\n",
              "    <tr>\n",
              "      <th>2018-03-19</th>\n",
              "      <td>175.300003</td>\n",
              "      <td>186.414368</td>\n",
              "    </tr>\n",
              "    <tr>\n",
              "      <th>...</th>\n",
              "      <td>...</td>\n",
              "      <td>...</td>\n",
              "    </tr>\n",
              "    <tr>\n",
              "      <th>2020-03-23</th>\n",
              "      <td>224.369995</td>\n",
              "      <td>267.853821</td>\n",
              "    </tr>\n",
              "    <tr>\n",
              "      <th>2020-03-24</th>\n",
              "      <td>246.880005</td>\n",
              "      <td>261.598602</td>\n",
              "    </tr>\n",
              "    <tr>\n",
              "      <th>2020-03-25</th>\n",
              "      <td>245.520004</td>\n",
              "      <td>258.309296</td>\n",
              "    </tr>\n",
              "    <tr>\n",
              "      <th>2020-03-26</th>\n",
              "      <td>258.440002</td>\n",
              "      <td>256.687164</td>\n",
              "    </tr>\n",
              "    <tr>\n",
              "      <th>2020-03-27</th>\n",
              "      <td>247.740005</td>\n",
              "      <td>257.626465</td>\n",
              "    </tr>\n",
              "  </tbody>\n",
              "</table>\n",
              "<p>515 rows × 2 columns</p>\n",
              "</div>"
            ],
            "text/plain": [
              "                 Close  Predictions\n",
              "Date                               \n",
              "2018-03-13  179.970001   185.056747\n",
              "2018-03-14  178.440002   185.739990\n",
              "2018-03-15  178.649994   186.138870\n",
              "2018-03-16  178.020004   186.369873\n",
              "2018-03-19  175.300003   186.414368\n",
              "...                ...          ...\n",
              "2020-03-23  224.369995   267.853821\n",
              "2020-03-24  246.880005   261.598602\n",
              "2020-03-25  245.520004   258.309296\n",
              "2020-03-26  258.440002   256.687164\n",
              "2020-03-27  247.740005   257.626465\n",
              "\n",
              "[515 rows x 2 columns]"
            ]
          },
          "metadata": {
            "tags": []
          },
          "execution_count": 24
        }
      ]
    },
    {
      "cell_type": "code",
      "metadata": {
        "id": "bbhQg8q5B436",
        "colab_type": "code",
        "colab": {
          "base_uri": "https://localhost:8080/",
          "height": 34
        },
        "outputId": "5f1b4358-bd99-4c67-b49a-eac336759934"
      },
      "source": [
        "# Get the quote\n",
        "apple_quote = web.DataReader('AAPL', data_source='yahoo', start='20-01-01', end='2020-03-30')\n",
        "\n",
        "# Create new Data Frame\n",
        "new_df = apple_quote.filter(['Close'])\n",
        "\n",
        "# Get the last 60 day closing price values and convert the data frame to an array\n",
        "last_60_days = new_df[-60:].values\n",
        "\n",
        "# Scale the data to be values between 0 and 1\n",
        "last_60_days_scaled = scaler.transform(last_60_days)\n",
        "\n",
        "# Create an empty list\n",
        "X_test = []\n",
        "\n",
        "# Append the past 60 days\n",
        "X_test.append(last_60_days_scaled)\n",
        "\n",
        "# Convert the X_test dataset to a numpy array\n",
        "X_test = np.array(X_test)\n",
        "\n",
        "# Reshape the data\n",
        "X_test = np.reshape(X_test, (X_test.shape[0], X_test.shape[1], 1))\n",
        "\n",
        "# Get the predicted scaled price\n",
        "pred_price = model.predict(X_test)\n",
        "\n",
        "# Undo the scaling\n",
        "pred_price = scaler.inverse_transform(pred_price)\n",
        "\n",
        "# Print the predicted price\n",
        "print(pred_price)"
      ],
      "execution_count": 32,
      "outputs": [
        {
          "output_type": "stream",
          "text": [
            "[[260.23856]]\n"
          ],
          "name": "stdout"
        }
      ]
    },
    {
      "cell_type": "code",
      "metadata": {
        "id": "sWS7TX1OHki-",
        "colab_type": "code",
        "colab": {
          "base_uri": "https://localhost:8080/",
          "height": 68
        },
        "outputId": "e245cbee-a786-4b38-8adc-da20067d2e5b"
      },
      "source": [
        "# Get the quote ( to show the different price of predicted and actual)\n",
        "apple_quote2 = web.DataReader('AAPL', data_source='yahoo', start='2020-03-30', end='2020-03-30')\n",
        "print(apple_quote2['Close']) #print only closing price"
      ],
      "execution_count": 33,
      "outputs": [
        {
          "output_type": "stream",
          "text": [
            "Date\n",
            "2020-03-30    254.809998\n",
            "Name: Close, dtype: float64\n"
          ],
          "name": "stdout"
        }
      ]
    }
  ]
}