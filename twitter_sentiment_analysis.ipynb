{
  "nbformat": 4,
  "nbformat_minor": 0,
  "metadata": {
    "colab": {
      "name": "twitter sentiment analysis.ipynb",
      "provenance": [],
      "authorship_tag": "ABX9TyM2DOdKHLzgwySOk+Ky9evr",
      "include_colab_link": true
    },
    "kernelspec": {
      "name": "python3",
      "display_name": "Python 3"
    }
  },
  "cells": [
    {
      "cell_type": "markdown",
      "metadata": {
        "id": "view-in-github",
        "colab_type": "text"
      },
      "source": [
        "<a href=\"https://colab.research.google.com/github/arifRusly/test/blob/master/twitter_sentiment_analysis.ipynb\" target=\"_parent\"><img src=\"https://colab.research.google.com/assets/colab-badge.svg\" alt=\"Open In Colab\"/></a>"
      ]
    },
    {
      "cell_type": "code",
      "metadata": {
        "id": "xzfW0hI4Qkzr",
        "colab_type": "code",
        "colab": {}
      },
      "source": [
        "# Description: This is a sentiment analysis program that prases the tweets fetched from Twitter using python"
      ],
      "execution_count": 0,
      "outputs": []
    },
    {
      "cell_type": "code",
      "metadata": {
        "id": "L12QHKGwRUNN",
        "colab_type": "code",
        "colab": {}
      },
      "source": [
        "# import the libraries\n",
        "import tweepy\n",
        "from textblob import TextBlob\n",
        "from wordcloud import WordCloud\n",
        "import pandas as pd\n",
        "import numpy as np\n",
        "import re # regular expression\n",
        "import matplotlib.pyplot as plt\n",
        "plt.style.use('fivethirtyeight')"
      ],
      "execution_count": 0,
      "outputs": []
    },
    {
      "cell_type": "code",
      "metadata": {
        "id": "M_g6YXmfSLiJ",
        "colab_type": "code",
        "colab": {}
      },
      "source": [
        "# twitter api credentials\n",
        "consumerKey = 'Enter your consumer key'\n",
        "consumerSecret = 'Enter your consumer secret'\n",
        "accessToken = 'Enter your access token'\n",
        "accessTokenSecret = 'Enter your access token secret'"
      ],
      "execution_count": 0,
      "outputs": []
    },
    {
      "cell_type": "code",
      "metadata": {
        "id": "QZQHHUrmTUbY",
        "colab_type": "code",
        "colab": {}
      },
      "source": [
        "# Create the authenticate object\n",
        "authenticate = tweepy.OAuthHandler(consumerKey, consumerSecret)\n",
        "\n",
        "# Set the access token and access token secret\n",
        "authenticate.set_access_token(accessToken, accessTokenSecret)\n",
        "\n",
        "# Create the api object while passing in the aut information\n",
        "api = tweepy.API(authenticate, wait_on_rate_limit= True)"
      ],
      "execution_count": 0,
      "outputs": []
    },
    {
      "cell_type": "code",
      "metadata": {
        "id": "pyeT4rMVfEZB",
        "colab_type": "code",
        "colab": {
          "base_uri": "https://localhost:8080/",
          "height": 241
        },
        "outputId": "515c69fb-5a7d-4818-eb05-2ac9ff19707d"
      },
      "source": [
        "# Extract 100 tweets from the twitter user\n",
        "posts = api.user_timeline(screen_name = 'Trump', count = 100, lang ='eng', tweet_mode = 'extended')\n",
        "\n",
        "# print the last 5 tweets from the account\n",
        "print('Show the 5 recent tweets: \\n')\n",
        "i = 1\n",
        "for tweet in posts[0:5]:\n",
        "  print(str(i) + ') ' + tweet.full_text + '\\n')\n",
        "  i = i + 1"
      ],
      "execution_count": 42,
      "outputs": [
        {
          "output_type": "stream",
          "text": [
            "Show the 5 recent tweets: \n",
            "\n",
            "1) Looking to improve your golf game from home? Introducing #VirtualGolfLessons with @TrumpGolf! Today we are taking you down to @TrumpPalmBeach to learn how to perfect your golf grip 🏌 https://t.co/WFXLwgTgmb https://t.co/o7Z3QIm7bF\n",
            "\n",
            "2) RT @TrumpRealty: Discover the latest edition of our 2020 First Quarter Luxury Market Report providing an exclusive look into Manhattan’s lu…\n",
            "\n",
            "3) RT @EricTrump: On behalf of everyone at  @TrumpGolf, I can’t wait to welcome you all back home! The properties are impeccable and our amazi…\n",
            "\n",
            "4) Our @TrumpHotels team is thrilled to announce that ALL eleven of our iconic destinations have earned nominations in @cntraveler’s 2020 Readers' Choice Awards! Cast your vote now at https://t.co/r6lTamagpb to share what you loved about your favorite Trump Hotels. https://t.co/pu5iDWoOtU\n",
            "\n",
            "5) RT @TrumpGolf: Five-time @pgatour winner and close friend of the @TrumpGolf family, @b_dechambeau, is giving our followers an exclusive les…\n",
            "\n"
          ],
          "name": "stdout"
        }
      ]
    },
    {
      "cell_type": "code",
      "metadata": {
        "id": "T3S9nwgshKjI",
        "colab_type": "code",
        "colab": {
          "base_uri": "https://localhost:8080/",
          "height": 204
        },
        "outputId": "8bbee44d-f02f-4c33-e309-0992ffe13fa8"
      },
      "source": [
        "# Create a dataframe with column called Tweets\n",
        "df = pd.DataFrame( [tweet.full_text for tweet in posts], columns =['Tweets'])\n",
        "\n",
        "# Show the first 5 rows of data\n",
        "df.head()"
      ],
      "execution_count": 43,
      "outputs": [
        {
          "output_type": "execute_result",
          "data": {
            "text/html": [
              "<div>\n",
              "<style scoped>\n",
              "    .dataframe tbody tr th:only-of-type {\n",
              "        vertical-align: middle;\n",
              "    }\n",
              "\n",
              "    .dataframe tbody tr th {\n",
              "        vertical-align: top;\n",
              "    }\n",
              "\n",
              "    .dataframe thead th {\n",
              "        text-align: right;\n",
              "    }\n",
              "</style>\n",
              "<table border=\"1\" class=\"dataframe\">\n",
              "  <thead>\n",
              "    <tr style=\"text-align: right;\">\n",
              "      <th></th>\n",
              "      <th>Tweets</th>\n",
              "    </tr>\n",
              "  </thead>\n",
              "  <tbody>\n",
              "    <tr>\n",
              "      <th>0</th>\n",
              "      <td>Looking to improve your golf game from home? I...</td>\n",
              "    </tr>\n",
              "    <tr>\n",
              "      <th>1</th>\n",
              "      <td>RT @TrumpRealty: Discover the latest edition o...</td>\n",
              "    </tr>\n",
              "    <tr>\n",
              "      <th>2</th>\n",
              "      <td>RT @EricTrump: On behalf of everyone at  @Trum...</td>\n",
              "    </tr>\n",
              "    <tr>\n",
              "      <th>3</th>\n",
              "      <td>Our @TrumpHotels team is thrilled to announce ...</td>\n",
              "    </tr>\n",
              "    <tr>\n",
              "      <th>4</th>\n",
              "      <td>RT @TrumpGolf: Five-time @pgatour winner and c...</td>\n",
              "    </tr>\n",
              "  </tbody>\n",
              "</table>\n",
              "</div>"
            ],
            "text/plain": [
              "                                              Tweets\n",
              "0  Looking to improve your golf game from home? I...\n",
              "1  RT @TrumpRealty: Discover the latest edition o...\n",
              "2  RT @EricTrump: On behalf of everyone at  @Trum...\n",
              "3  Our @TrumpHotels team is thrilled to announce ...\n",
              "4  RT @TrumpGolf: Five-time @pgatour winner and c..."
            ]
          },
          "metadata": {
            "tags": []
          },
          "execution_count": 43
        }
      ]
    },
    {
      "cell_type": "code",
      "metadata": {
        "id": "adsO1Xd8h27S",
        "colab_type": "code",
        "colab": {
          "base_uri": "https://localhost:8080/",
          "height": 419
        },
        "outputId": "90bed2f8-94f2-4767-da39-dc9889b893cd"
      },
      "source": [
        "# Clean the data\n",
        "\n",
        "# Create a function to clean the tweets\n",
        "def cleanTxt(text):\n",
        "  text = re.sub(r'@[A-Za-z0-9]+','', text) # Remove the @mentions\n",
        "  text = re.sub(r'#', '', text) # Removing the # symbol\n",
        "  text = re.sub(r':', '', text) # Removing the : symbol\n",
        "  text = re.sub(r'RT[\\s]+', '', text) # REmoving the RT\n",
        "  text = re.sub(r'https?:\\/\\/\\S+', '', text) # REmoving the hyper link\n",
        "\n",
        "  return text\n",
        "\n",
        "# apply the function\n",
        "df['Tweets'] = df['Tweets'].apply(cleanTxt)\n",
        "\n",
        "# show the cleaned text\n",
        "df"
      ],
      "execution_count": 49,
      "outputs": [
        {
          "output_type": "execute_result",
          "data": {
            "text/html": [
              "<div>\n",
              "<style scoped>\n",
              "    .dataframe tbody tr th:only-of-type {\n",
              "        vertical-align: middle;\n",
              "    }\n",
              "\n",
              "    .dataframe tbody tr th {\n",
              "        vertical-align: top;\n",
              "    }\n",
              "\n",
              "    .dataframe thead th {\n",
              "        text-align: right;\n",
              "    }\n",
              "</style>\n",
              "<table border=\"1\" class=\"dataframe\">\n",
              "  <thead>\n",
              "    <tr style=\"text-align: right;\">\n",
              "      <th></th>\n",
              "      <th>Tweets</th>\n",
              "      <th>Subjectivity</th>\n",
              "      <th>Polarity</th>\n",
              "      <th>Analysis</th>\n",
              "    </tr>\n",
              "  </thead>\n",
              "  <tbody>\n",
              "    <tr>\n",
              "      <th>0</th>\n",
              "      <td>Looking to improve your golf game from home? I...</td>\n",
              "      <td>0.562963</td>\n",
              "      <td>0.114815</td>\n",
              "      <td>Positive</td>\n",
              "    </tr>\n",
              "    <tr>\n",
              "      <th>1</th>\n",
              "      <td>Discover the latest edition of our 2020 First...</td>\n",
              "      <td>0.616667</td>\n",
              "      <td>0.375000</td>\n",
              "      <td>Positive</td>\n",
              "    </tr>\n",
              "    <tr>\n",
              "      <th>2</th>\n",
              "      <td>On behalf of everyone at  , I can’t wait to w...</td>\n",
              "      <td>0.550000</td>\n",
              "      <td>0.516667</td>\n",
              "      <td>Positive</td>\n",
              "    </tr>\n",
              "    <tr>\n",
              "      <th>3</th>\n",
              "      <td>Our  team is thrilled to announce that ALL ele...</td>\n",
              "      <td>0.750000</td>\n",
              "      <td>0.606250</td>\n",
              "      <td>Positive</td>\n",
              "    </tr>\n",
              "    <tr>\n",
              "      <th>4</th>\n",
              "      <td>Five-time  winner and close friend of the  fa...</td>\n",
              "      <td>0.000000</td>\n",
              "      <td>0.000000</td>\n",
              "      <td>Neutral</td>\n",
              "    </tr>\n",
              "    <tr>\n",
              "      <th>...</th>\n",
              "      <td>...</td>\n",
              "      <td>...</td>\n",
              "      <td>...</td>\n",
              "      <td>...</td>\n",
              "    </tr>\n",
              "    <tr>\n",
              "      <th>95</th>\n",
              "      <td>Did you know the richly luxurious guest rooms ...</td>\n",
              "      <td>0.583333</td>\n",
              "      <td>0.408333</td>\n",
              "      <td>Positive</td>\n",
              "    </tr>\n",
              "    <tr>\n",
              "      <th>96</th>\n",
              "      <td>Three of the most spectacular golf courses in ...</td>\n",
              "      <td>0.460000</td>\n",
              "      <td>0.320000</td>\n",
              "      <td>Positive</td>\n",
              "    </tr>\n",
              "    <tr>\n",
              "      <th>97</th>\n",
              "      <td>We hope everyone had a wonderful FourthOfJuly ...</td>\n",
              "      <td>1.000000</td>\n",
              "      <td>1.000000</td>\n",
              "      <td>Positive</td>\n",
              "    </tr>\n",
              "    <tr>\n",
              "      <th>98</th>\n",
              "      <td>No golf bucket list is complete without</td>\n",
              "      <td>0.400000</td>\n",
              "      <td>0.100000</td>\n",
              "      <td>Positive</td>\n",
              "    </tr>\n",
              "    <tr>\n",
              "      <th>99</th>\n",
              "      <td>Have you seen the new  website? Go to  to lear...</td>\n",
              "      <td>0.484848</td>\n",
              "      <td>0.420455</td>\n",
              "      <td>Positive</td>\n",
              "    </tr>\n",
              "  </tbody>\n",
              "</table>\n",
              "<p>100 rows × 4 columns</p>\n",
              "</div>"
            ],
            "text/plain": [
              "                                               Tweets  ...  Analysis\n",
              "0   Looking to improve your golf game from home? I...  ...  Positive\n",
              "1    Discover the latest edition of our 2020 First...  ...  Positive\n",
              "2    On behalf of everyone at  , I can’t wait to w...  ...  Positive\n",
              "3   Our  team is thrilled to announce that ALL ele...  ...  Positive\n",
              "4    Five-time  winner and close friend of the  fa...  ...   Neutral\n",
              "..                                                ...  ...       ...\n",
              "95  Did you know the richly luxurious guest rooms ...  ...  Positive\n",
              "96  Three of the most spectacular golf courses in ...  ...  Positive\n",
              "97  We hope everyone had a wonderful FourthOfJuly ...  ...  Positive\n",
              "98         No golf bucket list is complete without     ...  Positive\n",
              "99  Have you seen the new  website? Go to  to lear...  ...  Positive\n",
              "\n",
              "[100 rows x 4 columns]"
            ]
          },
          "metadata": {
            "tags": []
          },
          "execution_count": 49
        }
      ]
    },
    {
      "cell_type": "code",
      "metadata": {
        "id": "pF5wqApXm-mx",
        "colab_type": "code",
        "colab": {
          "base_uri": "https://localhost:8080/",
          "height": 419
        },
        "outputId": "17e4b9d9-2daa-4909-c670-2d2aeca40fec"
      },
      "source": [
        "# Create a function to get the subjectivity\n",
        "def getSubjectivity(text):\n",
        "  return TextBlob(text).sentiment.subjectivity\n",
        "\n",
        "# Creae a function to get the polarity\n",
        "def getPolarity(text):\n",
        "  return TextBlob(text).sentiment.polarity\n",
        "\n",
        "# Create two new columns\n",
        "df['Subjectivity'] = df['Tweets'].apply(getSubjectivity)\n",
        "df['Polarity'] = df['Tweets'].apply(getPolarity)\n",
        "\n",
        "# Show the new dataframe with the new columns\n",
        "df"
      ],
      "execution_count": 50,
      "outputs": [
        {
          "output_type": "execute_result",
          "data": {
            "text/html": [
              "<div>\n",
              "<style scoped>\n",
              "    .dataframe tbody tr th:only-of-type {\n",
              "        vertical-align: middle;\n",
              "    }\n",
              "\n",
              "    .dataframe tbody tr th {\n",
              "        vertical-align: top;\n",
              "    }\n",
              "\n",
              "    .dataframe thead th {\n",
              "        text-align: right;\n",
              "    }\n",
              "</style>\n",
              "<table border=\"1\" class=\"dataframe\">\n",
              "  <thead>\n",
              "    <tr style=\"text-align: right;\">\n",
              "      <th></th>\n",
              "      <th>Tweets</th>\n",
              "      <th>Subjectivity</th>\n",
              "      <th>Polarity</th>\n",
              "      <th>Analysis</th>\n",
              "    </tr>\n",
              "  </thead>\n",
              "  <tbody>\n",
              "    <tr>\n",
              "      <th>0</th>\n",
              "      <td>Looking to improve your golf game from home? I...</td>\n",
              "      <td>0.562963</td>\n",
              "      <td>0.114815</td>\n",
              "      <td>Positive</td>\n",
              "    </tr>\n",
              "    <tr>\n",
              "      <th>1</th>\n",
              "      <td>Discover the latest edition of our 2020 First...</td>\n",
              "      <td>0.616667</td>\n",
              "      <td>0.375000</td>\n",
              "      <td>Positive</td>\n",
              "    </tr>\n",
              "    <tr>\n",
              "      <th>2</th>\n",
              "      <td>On behalf of everyone at  , I can’t wait to w...</td>\n",
              "      <td>0.550000</td>\n",
              "      <td>0.516667</td>\n",
              "      <td>Positive</td>\n",
              "    </tr>\n",
              "    <tr>\n",
              "      <th>3</th>\n",
              "      <td>Our  team is thrilled to announce that ALL ele...</td>\n",
              "      <td>0.750000</td>\n",
              "      <td>0.606250</td>\n",
              "      <td>Positive</td>\n",
              "    </tr>\n",
              "    <tr>\n",
              "      <th>4</th>\n",
              "      <td>Five-time  winner and close friend of the  fa...</td>\n",
              "      <td>0.000000</td>\n",
              "      <td>0.000000</td>\n",
              "      <td>Neutral</td>\n",
              "    </tr>\n",
              "    <tr>\n",
              "      <th>...</th>\n",
              "      <td>...</td>\n",
              "      <td>...</td>\n",
              "      <td>...</td>\n",
              "      <td>...</td>\n",
              "    </tr>\n",
              "    <tr>\n",
              "      <th>95</th>\n",
              "      <td>Did you know the richly luxurious guest rooms ...</td>\n",
              "      <td>0.583333</td>\n",
              "      <td>0.408333</td>\n",
              "      <td>Positive</td>\n",
              "    </tr>\n",
              "    <tr>\n",
              "      <th>96</th>\n",
              "      <td>Three of the most spectacular golf courses in ...</td>\n",
              "      <td>0.460000</td>\n",
              "      <td>0.320000</td>\n",
              "      <td>Positive</td>\n",
              "    </tr>\n",
              "    <tr>\n",
              "      <th>97</th>\n",
              "      <td>We hope everyone had a wonderful FourthOfJuly ...</td>\n",
              "      <td>1.000000</td>\n",
              "      <td>1.000000</td>\n",
              "      <td>Positive</td>\n",
              "    </tr>\n",
              "    <tr>\n",
              "      <th>98</th>\n",
              "      <td>No golf bucket list is complete without</td>\n",
              "      <td>0.400000</td>\n",
              "      <td>0.100000</td>\n",
              "      <td>Positive</td>\n",
              "    </tr>\n",
              "    <tr>\n",
              "      <th>99</th>\n",
              "      <td>Have you seen the new  website? Go to  to lear...</td>\n",
              "      <td>0.484848</td>\n",
              "      <td>0.420455</td>\n",
              "      <td>Positive</td>\n",
              "    </tr>\n",
              "  </tbody>\n",
              "</table>\n",
              "<p>100 rows × 4 columns</p>\n",
              "</div>"
            ],
            "text/plain": [
              "                                               Tweets  ...  Analysis\n",
              "0   Looking to improve your golf game from home? I...  ...  Positive\n",
              "1    Discover the latest edition of our 2020 First...  ...  Positive\n",
              "2    On behalf of everyone at  , I can’t wait to w...  ...  Positive\n",
              "3   Our  team is thrilled to announce that ALL ele...  ...  Positive\n",
              "4    Five-time  winner and close friend of the  fa...  ...   Neutral\n",
              "..                                                ...  ...       ...\n",
              "95  Did you know the richly luxurious guest rooms ...  ...  Positive\n",
              "96  Three of the most spectacular golf courses in ...  ...  Positive\n",
              "97  We hope everyone had a wonderful FourthOfJuly ...  ...  Positive\n",
              "98         No golf bucket list is complete without     ...  Positive\n",
              "99  Have you seen the new  website? Go to  to lear...  ...  Positive\n",
              "\n",
              "[100 rows x 4 columns]"
            ]
          },
          "metadata": {
            "tags": []
          },
          "execution_count": 50
        }
      ]
    },
    {
      "cell_type": "code",
      "metadata": {
        "id": "i48Z8RX3pG78",
        "colab_type": "code",
        "colab": {
          "base_uri": "https://localhost:8080/",
          "height": 256
        },
        "outputId": "6db7e8e3-adeb-4beb-9861-3e8679ea7bea"
      },
      "source": [
        "# to see how well these sentiments are distributed\n",
        "# plot WORD CLOUD\n",
        "allWords = ''.join([twts for twts in df['Tweets']])\n",
        "wordCloud = WordCloud(width = 500, height = 300, random_state = 21, max_font_size = 119).generate(allWords)\n",
        "\n",
        "# SHow the wordCloud\n",
        "plt.imshow(wordCloud, interpolation ='bilinear')\n",
        "plt.axis('off')\n",
        "plt.show()"
      ],
      "execution_count": 51,
      "outputs": [
        {
          "output_type": "display_data",
          "data": {
            "image/png": "[encoded data removed]",
            "text/plain": [
              "<Figure size 432x288 with 1 Axes>"
            ]
          },
          "metadata": {
            "tags": []
          }
        }
      ]
    },
    {
      "cell_type": "code",
      "metadata": {
        "id": "ujY5J1LlssSS",
        "colab_type": "code",
        "colab": {
          "base_uri": "https://localhost:8080/",
          "height": 419
        },
        "outputId": "1186dfd2-8fcc-4181-ebe2-670e90652250"
      },
      "source": [
        "# Create a function to compute the negative, neutral and positive analysis\n",
        "def getAnalysis(score):\n",
        "  if score < 0:\n",
        "    return 'Negative'\n",
        "  elif score == 0:\n",
        "    return 'Neutral'\n",
        "  else:\n",
        "    return 'Positive'\n",
        "\n",
        "df['Analysis'] = df['Polarity'].apply(getAnalysis)\n",
        "\n",
        "# Show the data frame\n",
        "df"
      ],
      "execution_count": 52,
      "outputs": [
        {
          "output_type": "execute_result",
          "data": {
            "text/html": [
              "<div>\n",
              "<style scoped>\n",
              "    .dataframe tbody tr th:only-of-type {\n",
              "        vertical-align: middle;\n",
              "    }\n",
              "\n",
              "    .dataframe tbody tr th {\n",
              "        vertical-align: top;\n",
              "    }\n",
              "\n",
              "    .dataframe thead th {\n",
              "        text-align: right;\n",
              "    }\n",
              "</style>\n",
              "<table border=\"1\" class=\"dataframe\">\n",
              "  <thead>\n",
              "    <tr style=\"text-align: right;\">\n",
              "      <th></th>\n",
              "      <th>Tweets</th>\n",
              "      <th>Subjectivity</th>\n",
              "      <th>Polarity</th>\n",
              "      <th>Analysis</th>\n",
              "    </tr>\n",
              "  </thead>\n",
              "  <tbody>\n",
              "    <tr>\n",
              "      <th>0</th>\n",
              "      <td>Looking to improve your golf game from home? I...</td>\n",
              "      <td>0.562963</td>\n",
              "      <td>0.114815</td>\n",
              "      <td>Positive</td>\n",
              "    </tr>\n",
              "    <tr>\n",
              "      <th>1</th>\n",
              "      <td>Discover the latest edition of our 2020 First...</td>\n",
              "      <td>0.616667</td>\n",
              "      <td>0.375000</td>\n",
              "      <td>Positive</td>\n",
              "    </tr>\n",
              "    <tr>\n",
              "      <th>2</th>\n",
              "      <td>On behalf of everyone at  , I can’t wait to w...</td>\n",
              "      <td>0.550000</td>\n",
              "      <td>0.516667</td>\n",
              "      <td>Positive</td>\n",
              "    </tr>\n",
              "    <tr>\n",
              "      <th>3</th>\n",
              "      <td>Our  team is thrilled to announce that ALL ele...</td>\n",
              "      <td>0.750000</td>\n",
              "      <td>0.606250</td>\n",
              "      <td>Positive</td>\n",
              "    </tr>\n",
              "    <tr>\n",
              "      <th>4</th>\n",
              "      <td>Five-time  winner and close friend of the  fa...</td>\n",
              "      <td>0.000000</td>\n",
              "      <td>0.000000</td>\n",
              "      <td>Neutral</td>\n",
              "    </tr>\n",
              "    <tr>\n",
              "      <th>...</th>\n",
              "      <td>...</td>\n",
              "      <td>...</td>\n",
              "      <td>...</td>\n",
              "      <td>...</td>\n",
              "    </tr>\n",
              "    <tr>\n",
              "      <th>95</th>\n",
              "      <td>Did you know the richly luxurious guest rooms ...</td>\n",
              "      <td>0.583333</td>\n",
              "      <td>0.408333</td>\n",
              "      <td>Positive</td>\n",
              "    </tr>\n",
              "    <tr>\n",
              "      <th>96</th>\n",
              "      <td>Three of the most spectacular golf courses in ...</td>\n",
              "      <td>0.460000</td>\n",
              "      <td>0.320000</td>\n",
              "      <td>Positive</td>\n",
              "    </tr>\n",
              "    <tr>\n",
              "      <th>97</th>\n",
              "      <td>We hope everyone had a wonderful FourthOfJuly ...</td>\n",
              "      <td>1.000000</td>\n",
              "      <td>1.000000</td>\n",
              "      <td>Positive</td>\n",
              "    </tr>\n",
              "    <tr>\n",
              "      <th>98</th>\n",
              "      <td>No golf bucket list is complete without</td>\n",
              "      <td>0.400000</td>\n",
              "      <td>0.100000</td>\n",
              "      <td>Positive</td>\n",
              "    </tr>\n",
              "    <tr>\n",
              "      <th>99</th>\n",
              "      <td>Have you seen the new  website? Go to  to lear...</td>\n",
              "      <td>0.484848</td>\n",
              "      <td>0.420455</td>\n",
              "      <td>Positive</td>\n",
              "    </tr>\n",
              "  </tbody>\n",
              "</table>\n",
              "<p>100 rows × 4 columns</p>\n",
              "</div>"
            ],
            "text/plain": [
              "                                               Tweets  ...  Analysis\n",
              "0   Looking to improve your golf game from home? I...  ...  Positive\n",
              "1    Discover the latest edition of our 2020 First...  ...  Positive\n",
              "2    On behalf of everyone at  , I can’t wait to w...  ...  Positive\n",
              "3   Our  team is thrilled to announce that ALL ele...  ...  Positive\n",
              "4    Five-time  winner and close friend of the  fa...  ...   Neutral\n",
              "..                                                ...  ...       ...\n",
              "95  Did you know the richly luxurious guest rooms ...  ...  Positive\n",
              "96  Three of the most spectacular golf courses in ...  ...  Positive\n",
              "97  We hope everyone had a wonderful FourthOfJuly ...  ...  Positive\n",
              "98         No golf bucket list is complete without     ...  Positive\n",
              "99  Have you seen the new  website? Go to  to lear...  ...  Positive\n",
              "\n",
              "[100 rows x 4 columns]"
            ]
          },
          "metadata": {
            "tags": []
          },
          "execution_count": 52
        }
      ]
    },
    {
      "cell_type": "code",
      "metadata": {
        "id": "UyX-ae4NtuCC",
        "colab_type": "code",
        "colab": {
          "base_uri": "https://localhost:8080/",
          "height": 1000
        },
        "outputId": "3dca2690-4663-40bc-bc0a-2a2303bce8e6"
      },
      "source": [
        "# print all of the positive tweets\n",
        "j = 1\n",
        "sortedDF = df.sort_values(by=['Polarity'])\n",
        "\n",
        "for i in range (0,sortedDF.shape[0]):\n",
        "  if(sortedDF['Analysis'][i] == 'Positive'):\n",
        "    print(str(j) + ')' + sortedDF['Tweets'][i])\n",
        "    print()\n",
        "    j = j + 1\n"
      ],
      "execution_count": 54,
      "outputs": [
        {
          "output_type": "stream",
          "text": [
            "1)Looking to improve your golf game from home? Introducing VirtualGolfLessons with ! Today we are taking you down to  to learn how to perfect your golf grip 🏌  \n",
            "\n",
            "2) Discover the latest edition of our 2020 First Quarter Luxury Market Report providing an exclusive look into Manhattan’s lu…\n",
            "\n",
            "3) On behalf of everyone at  , I can’t wait to welcome you all back home! The properties are impeccable and our amazi…\n",
            "\n",
            "4)Our  team is thrilled to announce that ALL eleven of our iconic destinations have earned nominations in ’s 2020 Readers' Choice Awards! Cast your vote now at  to share what you loved about your favorite Trump Hotels. \n",
            "\n",
            "5)In honor of NationalGolfersDay, here’s a special message from our dear friend and golf legend _JohnDaly ⛳️ Hope everyone is staying safe and healthy!  \n",
            "\n",
            "6)Each morning is a new beginning. A new opportunity to conquer any task at hand. Do it better. Never settle. While some of our properties may be closed for now, The  Organization, and all that we stand for, remains open. \n",
            "\n",
            "7)Happy FirstDayOfSpring! Today marks the earliest vernal equinox in over a century and it couldn’t have come at a better time 🌱 \n",
            "\n",
            "8)On behalf of the entire team at The Trump Organization, we hope you and your families stay healthy and safe during these uncertain times. Our community is unshakable, our teams are vigilant and we live in the greatest nation on earth. We will overcome. \n",
            "\n",
            "9)This past weekend,  hosted the annual TrumpChallenge! Members from each of our  courses competed on our BlueMonster and GoldenPalm courses followed by an awards luncheon.\n",
            "\n",
            "Congrats to the home team, , for winning this years tournament! \n",
            "\n",
            "10)The world’s most celebrated private club, combining the best of twentieth century and historical design with an exceptional eye for detail, perfection and the highest standards of service  \n",
            "\n",
            "11)When the views are just as spectacular as the room ✨ At , no two rooms are identical creating a unique experience every stay  \n",
            "\n",
            "12)Did you know that  is open to the public daily from 8am to 10pm? Come eat, drink and shop with us on your next trip to New York City 🗽 \n",
            "\n",
            "13)Just a few minutes' drive from ,  is a site to behold for its grand Mediterranean-style clubhouse, 27 holes of world class golf and meticulously maintained landscape unique to South Florida! \n",
            "\n",
            "14) A huge congratulations to , ,  and  that have ALL just received the …\n",
            "\n",
            "15) 2/3 Separately, it was just announced that EIGHT of our hotels have received the Gold Badge for the “Best Hotels in the U.S…\n",
            "\n",
            "16) 3/3 All the while,  climbed to 10 on ’s “100 Greatest Golf Courses in the World” – with …\n",
            "\n",
            "17) Final To put it mildly, it has been a great week for ! 🇺🇸🇺🇸🇺🇸\n",
            "  \n",
            "\n",
            "18)Meticulously redeveloped to retain the incredible historic character while elevating the design to bring a new level of luxury to Pennsylvania Avenue,  has exceeded expectations at every turn 🏛️ \n",
            "\n",
            "19)The 2020  Best Hotels rankings are in and  is on top! Congratulations to all our  properties awarded for their outstanding hospitality 🏆 \n",
            "\n",
            "20)Adjacent to the United Nations Headquarters and surrounded by lush landscaping, Trump World Tower rises 72 stories above Manhattan featuring expansive layouts, private spa and valet garage service  \n",
            "\n",
            "21)This past week, our  team flew down to Orlando for the 2020 PGA Show! Every year over 1,000 exhibitors showcase the latest in golf apparel, technology &amp; equipment. We’re proud to work with the industry’s top vendors to provide our guests with the best experiences ⛳️ \n",
            "\n",
            "22) Today we honor the contribution and legacy of Dr. Martin Luther King Jr — happy MLKDay2020 🇺🇸 \n",
            "\n",
            "23)View our 2019 Fourth Quarter Luxury Market Report from  featuring the latest luxury market statistics and analysis  \n",
            "\n",
            "24)Your home away from home. But better.  \n",
            "\n",
            "25)Start the New Year off with an additional 30% off all sale products on ! Use code NEWYEAR30 at checkout now  \n",
            "\n",
            "26)Luxury reimagined. History reawakened. \n",
            "\n",
            "Experience the first and only Forbes Five Star Hotel in downtown Washington, D.C.  \n",
            "\n",
            "27)For the second year in a row,  has been awarded \"Best Playing Conditions\" in all of Los Angeles! Congratulations to our team  \n",
            "\n",
            "28)Back to work on the first Monday of 2020! Hope everyone enjoyed a wonderful holiday with family and friends  \n",
            "\n",
            "29)Happy New Year and welcome to a new decade ✨ We look forward to hosting you and your families at our properties in 2020 and beyond! \n",
            "\n",
            "30) On behalf of my entire family and all the amazing men and women of The Trump Organization, HAPPY NEW YEAR! We can’t wait to…\n",
            "\n",
            "31)Wishing you all a very MerryChristmas from our  family to yours🎄 \n",
            "\n",
            "32)Congratulations to ,  &amp;  on being named 3 of the Top 100 Luxury Golf Resorts in Britain &amp; Ireland 2020 by Golf World Magazine! \n",
            "\n",
            "33)13 Tour Players 🏌️\n",
            "129 Total Victories 🏆\n",
            "1 Incredible Weekend ⛳️\n",
            "\n",
            "Thank you to everyone that attended the Trump Touring Pro-Am Weekend at  this past weekend complete with multiple rounds, fireside chats and special events with ! \n",
            "\n",
            "34)It was a pleasure to welcome  and  to  this past weekend for Carolina Trump’s television debut! Come celebrate the season with us and meet Santa every Wednesday-Sunday through Christmas 🎅🏼 \n",
            "\n",
            "35)Friendly reminder that today is NationalCookieDay 🍪 If you need us, we'll be celebrating with our own personal skillet baked to perfection at  TrumpCookie \n",
            "\n",
            "36)First snowstorm of the season today at  ❄️ NewYorkCity \n",
            "\n",
            "37)Happy Thanksgiving from The  Organization 🍁     \n",
            "\n",
            "38)Exclusive new hand-made ornaments, modeled after our air fleet and properties, are now up on  Which one is your favorite? \n",
            "\n",
            "39)Early evening sunset falling over   \n",
            "\n",
            "40)36 years since its completion,  New York still stands as a world famous testament to  grand vision  \n",
            "\n",
            "41)It's that time of year! The  2019 Holiday Gift Guide is here 🎁 Find truly unique gifts for everyone on your list  \n",
            "\n",
            "42)To all who have served, we honor and we thank you 🇺🇸 \n",
            "\n",
            "Our team is proud to mentor and support many amazing Veterans &amp; their families through the  nationwide mentoring program VeteransDay ACPthanks \n",
            "\n",
            "43)PropertyOfTheDay Experience luxury living at this exquisite full-floor Park Avenue Penthouse featuring 5 bedrooms, 7.5 bathrooms, 6,200 square feet of interior space and 4 terraces   \n",
            "\n",
            "44)Private Heliport ✔️\n",
            "Gourmet Market ✔️\n",
            "Indoor Tennis Court✔️\n",
            "\n",
            "Trump Punta Del Este is set to redefine what is meant by luxury living as the most exclusive tower in South America. \n",
            "\n",
            "45)No need for Jack-O-Lanterns when you have the  Lighthouse and vibrant Scottish sunsets 🎃 \n",
            "\n",
            "46)Nearly 100 years of history preserved. \n",
            "40WallStreet TheTrumpBuilding \n",
            "\n",
            "47)Great course conditions, cooler weather &amp; colorful foliage 🍂 Who else agrees Fall is the best season for golf?  \n",
            "\n",
            "48)Impressive shot of TrumpTowersPune, our first project in India! The two striking glass facade towers are 22 stories each and offer breathtaking 360° views of the city \n",
            "\n",
            "49)Las Vegas is more than its casinos. \n",
            "Explore the city on your own terms \n",
            "  \n",
            "\n",
            "50)Discover the latest edition of our  2019 Third Quarter Luxury Market Report providing an exclusive look into Manhattan’s luxury market conditions  \n",
            "\n",
            "51)Here's the latest progress from our upcoming TrumpPuntaDelEste residential property on the coast of Uruguay  \n",
            "\n",
            "52)Thank you to the 3,700-plus golfers that voted  one of the Top 100 Golf Resorts and Top 25 Best Resorts for the Buddies in all of North America! _com  \n",
            "\n",
            "53)Congratulations to our  team on receiving full approval to expand the Aberdeen community with 500 new residential homes, 50 cottages, retail shops, a sports center, and spectacular 2nd golf course!  \n",
            "\n",
            "54)Today is the first day of Fall which means there are only 38 days until Halloween, 66 days until Thanksgiving and 93 days until Christmas! AutumnEquinox \n",
            "\n",
            "55)\"Right from the time accommodation is booked, the machine that is the modern hotel starts working\". \n",
            "\n",
            "For over a century, we have been perfecting the guest experience at our legendary  resort! \n",
            "\n",
            "56)Proud to announce that  has just been named the 1 “Best Hotel in the World!\" Congratulations to our remarkable team  \n",
            "\n",
            "57)New season, new camo 🍂 Shop the limited edition  collection just in time for Fall  \n",
            "\n",
            "58)In 1939, the residence that would become  was constructed on 535 acres of rambling countryside in central New Jersey. 80 years later, it now stands as a historic landmark and home to 2 of the best courses in the world! \n",
            "\n",
            "59)This past week,  headed to Indonesia for the pre-launch of Trump Residences Indonesia 🇮🇩\n",
            "\n",
            "The development is the first integrated ultra-luxury residential area in Indonesia located in two iconic locations Lido and Bali  _Tanoe \n",
            "\n",
            "60)Welcome to the world, Carolina Dorothy Trump 🎀   \n",
            "\n",
            "61)Cleared for takeoff ✈️ The all-new  Jetsetter Collection is now LIVE. Shop exclusive gifts and apparel inspired by our iconic aviation fleet  \n",
            "\n",
            "62)These backpacks are filled and ready for the new school year 🎒 Team  is proud to once again support OperationBackpack, a school supplies drive to benefit children living in the NYC Homeless Shelter System! \n",
            "\n",
            "63)\"We wanted to have a classy wedding, somewhere by the sea and close to a few things that we felt our guests from abroad would be interested in.  ticked all the boxes\" ✔️  \n",
            "\n",
            "64)Discover the latest edition of the  2019 2nd Quarter Luxury Market Report providing an exclusive look at Manhattan’s luxury market conditions  \n",
            "\n",
            "65)Did you know the richly luxurious guest rooms and suites of  are among the largest in Washington, D.C.?\n",
            "\n",
            "Experience the lofty 16-foot ceilings, soaring windows, beautifully restored historic millwork, and crystal chandeliers for yourself  \n",
            "\n",
            "66)Three of the most spectacular golf courses in the world ⛳ \n",
            "\n",
            "Tune into  next week during  to catch our latest commercial TheTrumpTriangle \n",
            "\n",
            "67)We hope everyone had a wonderful FourthOfJuly weekend 🇺🇸 \n",
            "\n",
            "68)No golf bucket list is complete without   \n",
            "\n",
            "69)Have you seen the new  website? Go to  to learn more about our hours, dining, retail, events, and more! \n",
            "\n"
          ],
          "name": "stdout"
        }
      ]
    },
    {
      "cell_type": "code",
      "metadata": {
        "id": "ZGBdYFfySEAc",
        "colab_type": "code",
        "colab": {
          "base_uri": "https://localhost:8080/",
          "height": 292
        },
        "outputId": "7cd0d5b8-63fc-452f-ffac-b2b071ec9655"
      },
      "source": [
        "# print all of the negative tweets\n",
        "j = 1\n",
        "sortedDF = df.sort_values(by=['Polarity'], ascending='False')\n",
        "\n",
        "for i in range (0,sortedDF.shape[0]):\n",
        "  if(sortedDF['Analysis'][i] == 'Negative'):\n",
        "    print(str(j) + ')' + sortedDF['Tweets'][i])\n",
        "    print()\n",
        "    j = j + 1"
      ],
      "execution_count": 56,
      "outputs": [
        {
          "output_type": "stream",
          "text": [
            "1) While some of our properties may be closed during this pandemic, the Trump Organization, and all that we stand for, remains…\n",
            "\n",
            "2)Routed on over 500 acres and forged from what was previously flat and barren desert,  has become a preeminent destination in the golf world 🇦🇪 \n",
            "\n",
            "3)Black Friday Starts Now! Take 25% Off EVERYTHING on  now through Monday  \n",
            "\n",
            "4)A great boss is hard to find and impossible to forget.\n",
            "\n",
            "Thank you to our fearless leaders for your motivation, mentorship and dedication to our team each and everyday NationalBossDay \n",
            "\n",
            "5)Everyday is InternationalDogDay for these TrumpPets 🐶   \n",
            "\n",
            "6)The  is less than 2 weeks away! Train like the pros\n",
            "at   \n",
            "\n"
          ],
          "name": "stdout"
        }
      ]
    },
    {
      "cell_type": "code",
      "metadata": {
        "id": "mQahUSb2SgCh",
        "colab_type": "code",
        "colab": {
          "base_uri": "https://localhost:8080/",
          "height": 955
        },
        "outputId": "603526bf-054b-4bab-e7c9-845ea5cef88c"
      },
      "source": [
        "# print all of the Neutral tweets\n",
        "j = 1\n",
        "sortedDF = df.sort_values(by=['Polarity'])\n",
        "\n",
        "for i in range (0,sortedDF.shape[0]):\n",
        "  if(sortedDF['Analysis'][i] == 'Neutral'):\n",
        "    print(str(j) + ')' + sortedDF['Tweets'][i])\n",
        "    print()\n",
        "    j = j + 1"
      ],
      "execution_count": 57,
      "outputs": [
        {
          "output_type": "stream",
          "text": [
            "1) Five-time  winner and close friend of the  family, _dechambeau, is giving our followers an exclusive les…\n",
            "\n",
            "2)Revel in Hudson River views from every room of this state-of-the-art penthouse featuring 480 sq ft of exterior terraces  \n",
            "\n",
            "3)Las Vegas Where the glow of the city’s architecture rivals that of Mother Nature’s skyline  \n",
            "\n",
            "4)⭐⭐⭐⭐⭐ \n",
            "\n",
            "Congratulations to , ,  &amp;  for ALL receiving the prestigious  Travel Guide’s 2020 Five-Star Distinction!  \n",
            "\n",
            "5)Can't leave home without your four-legged friend? With our TrumpPets program, you don't have to!   \n",
            "\n",
            "6)All roads lead to  🌃   NeverSettle \n",
            "\n",
            "7)No better place to spend the first week of winter ❄️  NewYork \n",
            "\n",
            "8)Look who decided to make a surprise appearance at the  Christmas Party this year 🎅 Santa  \n",
            "\n",
            "9)Two weeks until Christmas, and we're celebrating with a holiday dash! Today only, receive 40% off holiday favorites  \n",
            "\n",
            "10)The  Club is officially open for the 2019/2020 season!  \n",
            "\n",
            "11)It’s YUGEEE! \n",
            "\n",
            "12)Calling all snowbirds!  is just the escape you'll need this winter ❄️ \n",
            "\n",
            "13)It's time to lace up your skates and head to Central Park ⛸️  is officially open for the season! \n",
            "\n",
            "14)It's about that time! Find a stopping point, hit the save button, book a tee time, and head to the course ⛳  \n",
            "\n",
            "15)We know how to make an entrance.\n",
            " 🛎️  \n",
            "\n",
            "16)Rise and Dine 🥓  BreakfastWithAView \n",
            "\n",
            "17)On Cloud Nine ☁️ \n",
            " \n",
            "\n",
            "18)Giving NationalCheeseburgerDay a breakfast-style twist  🍳 \n",
            "\n",
            "19)18 years later, we remember and honor the lives of those we lost. A day that changed the world forever. NeverForget \n",
            "\n",
            "20)Rising above the rest  NeverSettle  \n",
            "\n",
            "21)If you make a birdie with Jigs as your caddie, you get a “birdie dance” ☘️  LuckOfTheIrish TrumpAttache  \n",
            "\n",
            "22)It's NationalAviationDay! In celebration,  is offering 20% off the JetsetterCollection 🚁 Use code JETSETTER at checkout  \n",
            "\n",
            "23)The majestic  lighthouse framed by the jagged rocks along the surrounding coastline NationalLighthouseDay 📸  \n",
            "\n",
            "24)Have you read the 2019 edition of  Magazine? Pick one up during your next visit at any of our international  and  properties for a glimpse into the WorldOfTrump 📖 \n",
            "\n",
            "25)With only 8 weeks of summer left, don’t forget to take some time to relax, refresh and recharge! Now through Sunday, receive 25% off select candles, bath and body items  \n",
            "\n"
          ],
          "name": "stdout"
        }
      ]
    },
    {
      "cell_type": "code",
      "metadata": {
        "id": "BMxdfMiNS0xh",
        "colab_type": "code",
        "colab": {
          "base_uri": "https://localhost:8080/",
          "height": 441
        },
        "outputId": "47d262f5-bdb5-4d50-f3ef-1acb4bce97c9"
      },
      "source": [
        "# plot the polarity and subjectivity\n",
        "plt.figure(figsize=(8,6))\n",
        "for i in range (0, df.shape[0]):\n",
        "  plt.scatter(df['Polarity'][i], df['Subjectivity'][i], color='Blue')\n",
        "\n",
        "plt.title('Sentiment Analysis')\n",
        "plt.xlabel('Polarity')\n",
        "plt.ylabel('Subjectivity')\n",
        "plt.show()"
      ],
      "execution_count": 58,
      "outputs": [
        {
          "output_type": "display_data",
          "data": {
            "image/png": "[encoded data removed]",
            "text/plain": [
              "<Figure size 576x432 with 1 Axes>"
            ]
          },
          "metadata": {
            "tags": []
          }
        }
      ]
    },
    {
      "cell_type": "code",
      "metadata": {
        "id": "fMb22lC3T_5f",
        "colab_type": "code",
        "colab": {
          "base_uri": "https://localhost:8080/",
          "height": 34
        },
        "outputId": "f21ca03d-2204-4c8d-ebe1-bb21570e261c"
      },
      "source": [
        "# Get the percentage of positive tweets\n",
        "ptweets = df[df.Analysis == 'Positive']\n",
        "ptweets = ptweets['Tweets']\n",
        "\n",
        "round ( (ptweets.shape[0] / df.shape[0]) * 100, 1)"
      ],
      "execution_count": 60,
      "outputs": [
        {
          "output_type": "execute_result",
          "data": {
            "text/plain": [
              "69.0"
            ]
          },
          "metadata": {
            "tags": []
          },
          "execution_count": 60
        }
      ]
    },
    {
      "cell_type": "code",
      "metadata": {
        "id": "QjA8WEbsU7Nx",
        "colab_type": "code",
        "colab": {
          "base_uri": "https://localhost:8080/",
          "height": 34
        },
        "outputId": "aa4a9148-18e8-4b37-b8f6-9553ac55d955"
      },
      "source": [
        "# Get the percentage of negative tweets\n",
        "ptweets = df[df.Analysis == 'Negative']\n",
        "ptweets = ptweets['Tweets']\n",
        "\n",
        "round ( (ptweets.shape[0] / df.shape[0]) * 100, 1)"
      ],
      "execution_count": 61,
      "outputs": [
        {
          "output_type": "execute_result",
          "data": {
            "text/plain": [
              "6.0"
            ]
          },
          "metadata": {
            "tags": []
          },
          "execution_count": 61
        }
      ]
    },
    {
      "cell_type": "code",
      "metadata": {
        "id": "lRoBvvHrVHDZ",
        "colab_type": "code",
        "colab": {
          "base_uri": "https://localhost:8080/",
          "height": 34
        },
        "outputId": "c7e5774a-cd2d-44de-a056-5b9ec0cef56a"
      },
      "source": [
        "# Get the percentage of neutral tweets\n",
        "ptweets = df[df.Analysis == 'Neutral']\n",
        "ptweets = ptweets['Tweets']\n",
        "\n",
        "round ( (ptweets.shape[0] / df.shape[0]) * 100, 1)"
      ],
      "execution_count": 62,
      "outputs": [
        {
          "output_type": "execute_result",
          "data": {
            "text/plain": [
              "25.0"
            ]
          },
          "metadata": {
            "tags": []
          },
          "execution_count": 62
        }
      ]
    },
    {
      "cell_type": "code",
      "metadata": {
        "id": "SX5XXcB4VTYw",
        "colab_type": "code",
        "colab": {
          "base_uri": "https://localhost:8080/",
          "height": 374
        },
        "outputId": "1b6005f8-52d7-47bc-d75c-6ba4662979e8"
      },
      "source": [
        "# Show the value counts\n",
        "df['Analysis'].value_counts()\n",
        "\n",
        "# print and visualize the counts\n",
        "plt.title('Sentiment Analysis')\n",
        "plt.xlabel('Sentiment')\n",
        "plt.ylabel('Counts')\n",
        "df['Analysis'].value_counts().plot(kind = 'bar')\n",
        "plt.show()"
      ],
      "execution_count": 64,
      "outputs": [
        {
          "output_type": "display_data",
          "data": {
            "image/png": "[encoded data removed]",
            "text/plain": [
              "<Figure size 432x288 with 1 Axes>"
            ]
          },
          "metadata": {
            "tags": []
          }
        }
      ]
    }
  ]
}